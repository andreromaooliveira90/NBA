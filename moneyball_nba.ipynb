{
 "cells": [
  {
   "cell_type": "code",
   "execution_count": null,
   "metadata": {},
   "outputs": [],
   "source": [
    "import os\n",
    "import pandas as pd\n"
   ]
  },
  {
   "cell_type": "code",
   "execution_count": null,
   "metadata": {},
   "outputs": [],
   "source": [
    "#  referencia do dataset \n",
    "# https://www.kaggle.com/datasets/ricardotorresheredia/nba-stats-from-the-last-71-years\n"
   ]
  },
  {
   "cell_type": "code",
   "execution_count": null,
   "metadata": {},
   "outputs": [],
   "source": [
    "# Caminho do arquivo .ods\n",
    "caminho_pasta = r\"C:\\Users\\aoliveira_esss\\Desktop\\projeto_nba\\NBA\\NBA_Stats_71_Years_Updated.xlsx\"\n",
    "# abreviacao = r\"C:\\Users\\andre\\Desktop\\MBA Data Science\\nba_stats\\abreviacao_times.csv\"\n",
    "\n",
    "# Carregar o arquivo .ods em um DataFrame\n",
    "df_nba = pd.read_excel(caminho_pasta)\n",
    "# df_abreviacao = pd.read_csv(abreviacao, encoding=\"utf-8\", sep=\",\")\n",
    "\n",
    "\n",
    "# Exibir as primeiras linhas para verificar\n",
    "df_nba.head()"
   ]
  },
  {
   "cell_type": "code",
   "execution_count": null,
   "metadata": {},
   "outputs": [],
   "source": [
    "ano_de_corte = 1990\n",
    "df_nba_1990 = df_nba[df_nba['Season Start Year'] >= ano_de_corte]\n",
    "df_nba_1990"
   ]
  },
  {
   "cell_type": "markdown",
   "metadata": {},
   "source": [
    "- fonte com a lista de cada abreviacao e o nome do time\n",
    "https://www.apbr.org/abbreviations.html\n"
   ]
  },
  {
   "cell_type": "code",
   "execution_count": null,
   "metadata": {},
   "outputs": [],
   "source": [
    "df_nba_1990['Team'].unique()"
   ]
  },
  {
   "cell_type": "code",
   "execution_count": null,
   "metadata": {},
   "outputs": [],
   "source": [
    "df_nba_1990['Season Start Year'].unique()"
   ]
  }
 ],
 "metadata": {
  "kernelspec": {
   "display_name": "env",
   "language": "python",
   "name": "python3"
  },
  "language_info": {
   "codemirror_mode": {
    "name": "ipython",
    "version": 3
   },
   "file_extension": ".py",
   "mimetype": "text/x-python",
   "name": "python",
   "nbconvert_exporter": "python",
   "pygments_lexer": "ipython3",
   "version": "3.13.2"
  }
 },
 "nbformat": 4,
 "nbformat_minor": 2
}
